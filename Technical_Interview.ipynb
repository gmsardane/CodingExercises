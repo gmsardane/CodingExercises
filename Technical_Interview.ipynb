{
 "cells": [
  {
   "cell_type": "markdown",
   "metadata": {},
   "source": [
    "# Technical Interview Practice\n",
    "\n",
    "For this project, you will be given five technical interviewing questions on a variety of topics discussed in the technical interviewing course. You should write up a clean and efficient answer in Python, as well as a text explanation of the efficiency of your code and your design choices. A qualified reviewer will look over your answer and give you feedback on anything that might be awesome or lacking—is your solution the most efficient one possible? Are you doing a good job of explaining your thoughts? Is your code elegant and easy to read?\n",
    "\n",
    "Answer the following questions:"
   ]
  },
  {
   "cell_type": "markdown",
   "metadata": {},
   "source": [
    "## Question 1\n",
    "\n",
    "Given two strings s and t, determine whether some anagram of t is a substring of s. For example: if s = \"udacity\" and t = \"ad\", then the function returns True. Your function definition should look like: question1(s, t) and return a boolean True or False.\n",
    "\n"
   ]
  },
  {
   "cell_type": "markdown",
   "metadata": {
    "collapsed": true
   },
   "source": [
    "> Since the instructions are not specific about the case of the strings, the code below is case-insensitive. For this algorithm, the worst case occurs when ** len(s) = len(t) = n** or when s and t differ only on the last letter. In this case, the runtime would be O(2n). Thus, the run time of the algorithm below can be considered to be of order O(n). In terms of space efficiency, the algorithm is also of order O(n), as one stores each letter of s into memory."
   ]
  },
  {
   "cell_type": "code",
   "execution_count": 8,
   "metadata": {
    "collapsed": false
   },
   "outputs": [
    {
     "name": "stdout",
     "output_type": "stream",
     "text": [
      "False\n",
      "True\n",
      "False\n"
     ]
    }
   ],
   "source": [
    "#run time O(n), but spends space\n",
    "def question1(s, t):\n",
    "    \"\"\"Checks if t is an anagram of s\"\"\"\n",
    "    if len(s) < len(t):\n",
    "        return False\n",
    "    \n",
    "    ref = s.lower()\n",
    "    sub = t.lower()\n",
    "    \n",
    "    def list_to_dict(_list):\n",
    "        #Count up letter contents of the string, and store results into a dictionary\n",
    "        _dict = {}\n",
    "        for i in _list:\n",
    "            if _dict.get(i, 0)==0:        \n",
    "                _dict[i] = 1\n",
    "            else:\n",
    "                _dict[i] = _dict[i] + 1\n",
    "        return _dict\n",
    "    \n",
    "    def scan(ref, sub):\n",
    "        # Scan the string and the potential substring, and see if the letter counts are consistent!\n",
    "        ref_dict = list_to_dict(ref)\n",
    "        sub_dict = list_to_dict(sub)\n",
    "        \n",
    "        for i in sub_dict:\n",
    "            if sub_dict[i]>ref_dict.get(i, 0):\n",
    "                return False\n",
    "        return True\n",
    "                \n",
    "    return scan(ref, sub)\n",
    "\n",
    "print question1('Udacity','udddddd')\n",
    "print question1('Udacity','CITY')\n",
    "print question1('Udacity','aa')"
   ]
  },
  {
   "cell_type": "markdown",
   "metadata": {},
   "source": [
    "## Question 2\n",
    "Given a string **a**, find the longest palindromic substring contained in **a**. Your function definition should look like question2(a), and return a string."
   ]
  },
  {
   "cell_type": "code",
   "execution_count": 11,
   "metadata": {
    "collapsed": false
   },
   "outputs": [
    {
     "name": "stdout",
     "output_type": "stream",
     "text": [
      "irri\n"
     ]
    }
   ],
   "source": [
    "#run time ~O(n^2) \n",
    "def question2(input_string):\n",
    "    \"\"\"Returns the length of the longest palindromic substring contained in input_string and the\n",
    "    list of possible palindromic substrings\"\"\"\n",
    "    palindromes = []\n",
    " \n",
    "    def save_palindromes(sub_string):\n",
    "        if len(sub_string) > 1:\n",
    "            palindromes.append(sub_string)\n",
    " \n",
    "    def explore_midpoint(i, j):\n",
    "        while 0 <= i and j < len(input_string) and input_string[i] == input_string[j]:\n",
    "            i -= 1\n",
    "            j += 1\n",
    "        save_palindromes(input_string[i+1:j])\n",
    " \n",
    "    #Check even length substrings\n",
    "    for i in range(1, len(input_string)):\n",
    "        explore_midpoint(i - 1, i)\n",
    "     \n",
    "    #Check odd length substrings\n",
    "    for i in range(1, len(input_string) - 1):\n",
    "        explore_midpoint(i, i)\n",
    " \n",
    "    if len(palindromes) >= 1:\n",
    "        return sorted(palindromes, key = lambda s: len(s))[-1]\n",
    "    else:\n",
    "        return 'No palindromes exist!'\n",
    "\n",
    "print question2('mirrir')"
   ]
  },
  {
   "cell_type": "code",
   "execution_count": null,
   "metadata": {
    "collapsed": true
   },
   "outputs": [],
   "source": []
  }
 ],
 "metadata": {
  "kernelspec": {
   "display_name": "Python 2",
   "language": "python",
   "name": "python2"
  },
  "language_info": {
   "codemirror_mode": {
    "name": "ipython",
    "version": 2
   },
   "file_extension": ".py",
   "mimetype": "text/x-python",
   "name": "python",
   "nbconvert_exporter": "python",
   "pygments_lexer": "ipython2",
   "version": "2.7.6"
  },
  "widgets": {
   "state": {},
   "version": "1.1.2"
  }
 },
 "nbformat": 4,
 "nbformat_minor": 0
}
