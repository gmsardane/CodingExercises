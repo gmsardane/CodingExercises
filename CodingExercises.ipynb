{
 "cells": [
  {
   "cell_type": "code",
   "execution_count": 56,
   "metadata": {
    "collapsed": false
   },
   "outputs": [
    {
     "name": "stdout",
     "output_type": "stream",
     "text": [
      "Should be 0\n",
      "0.0\n",
      "Should be 2\n",
      "2.0\n",
      "Should be 11\n",
      "11.0\n",
      "Should be 15\n",
      "15.0\n"
     ]
    }
   ],
   "source": [
    "\"\"\"You can use this class to represent how classy someone\n",
    "or something is.\n",
    "\"Classy\" is interchangable with \"fancy\".\n",
    "If you add fancy-looking items, you will increase\n",
    "your \"classiness\".\n",
    "\n",
    "Create a function in \"Classy\" that takes a string as\n",
    "input and adds it to the \"items\" list.\n",
    "Another method should calculate the \"classiness\"\n",
    "value based on the items.\n",
    "The following items have classiness points associated\n",
    "with them:\n",
    "\"tophat\" = 2\n",
    "\"bowtie\" = 4\n",
    "\"monocle\" = 5\n",
    "Everything else has 0 points.\n",
    "Use the test cases below to guide you!\"\"\"\n",
    "\n",
    "class Classy:\n",
    "    def __init__(self):\n",
    "        self.items = []\n",
    "        \n",
    "    \n",
    "    def addItem(self, item):\n",
    "        item = str(item)\n",
    "        return self.items.append(item)\n",
    "    \n",
    "    def getClassiness(self):\n",
    "        self.score = 0.\n",
    "        for i, item in enumerate(self.items):\n",
    "            if item == 'tophat':\n",
    "                self.score += 2\n",
    "            elif item == 'bowtie':\n",
    "                self.score += 4\n",
    "            elif item == 'monocle':\n",
    "                self.score += 5\n",
    "        return self.score\n",
    "\n",
    "# Test cases\n",
    "me = Classy()\n",
    "\n",
    "print 'Should be 0'\n",
    "print me.getClassiness()\n",
    "\n",
    "me.addItem(\"tophat\")\n",
    "print 'Should be 2'\n",
    "print me.getClassiness()\n",
    "\n",
    "me.addItem(\"bowtie\")\n",
    "me.addItem(\"jacket\")\n",
    "me.addItem(\"monocle\")\n",
    "print 'Should be 11'\n",
    "print me.getClassiness()\n",
    "\n",
    "me.addItem(\"bowtie\")\n",
    "print 'Should be 15'\n",
    "print me.getClassiness()"
   ]
  },
  {
   "cell_type": "code",
   "execution_count": null,
   "metadata": {
    "collapsed": false
   },
   "outputs": [],
   "source": []
  },
  {
   "cell_type": "code",
   "execution_count": 35,
   "metadata": {
    "collapsed": false
   },
   "outputs": [
    {
     "name": "stdout",
     "output_type": "stream",
     "text": [
      "2\n",
      "HERE 4\n",
      "4\n",
      "HERE 7\n",
      "-1\n"
     ]
    }
   ],
   "source": []
  },
  {
   "cell_type": "code",
   "execution_count": 40,
   "metadata": {
    "collapsed": false
   },
   "outputs": [
    {
     "name": "stdout",
     "output_type": "stream",
     "text": [
      "-1\n",
      "5\n"
     ]
    }
   ],
   "source": []
  },
  {
   "cell_type": "code",
   "execution_count": 66,
   "metadata": {
    "collapsed": false
   },
   "outputs": [
    {
     "name": "stdout",
     "output_type": "stream",
     "text": [
      "-1\n",
      "89\n",
      "0\n",
      "55\n",
      "1\n"
     ]
    }
   ],
   "source": []
  },
  {
   "cell_type": "code",
   "execution_count": 33,
   "metadata": {
    "collapsed": false
   },
   "outputs": [
    {
     "data": {
      "text/plain": [
       "720"
      ]
     },
     "execution_count": 33,
     "metadata": {},
     "output_type": "execute_result"
    }
   ],
   "source": []
  },
  {
   "cell_type": "code",
   "execution_count": 34,
   "metadata": {
    "collapsed": false
   },
   "outputs": [],
   "source": []
  },
  {
   "cell_type": "code",
   "execution_count": 37,
   "metadata": {
    "collapsed": false
   },
   "outputs": [],
   "source": [
    "def quicksort(array):\n",
    "    smaller = []\n",
    "    larger = []\n",
    "    equal = []\n",
    "    if len(array) >= 1:\n",
    "        pivot = array[-1]\n",
    "        for i in array:\n",
    "            if i < pivot:\n",
    "                smaller.append(i) \n",
    "            if i > pivot:\n",
    "                larger.append(i)  \n",
    "            if i == pivot:\n",
    "                equal.append(i)\n",
    "        return quicksort(smaller) + equal + quicksort(larger)\n",
    "    \n",
    "    else:\n",
    "        return array\n",
    "        "
   ]
  },
  {
   "cell_type": "code",
   "execution_count": 41,
   "metadata": {
    "collapsed": false
   },
   "outputs": [
    {
     "data": {
      "text/plain": [
       "[1, 3, 5, 6, 7, 12, 12, 15]"
      ]
     },
     "execution_count": 41,
     "metadata": {},
     "output_type": "execute_result"
    }
   ],
   "source": [
    "quicksort([12,12,5,6,7,3,1,15])"
   ]
  },
  {
   "cell_type": "code",
   "execution_count": null,
   "metadata": {
    "collapsed": true
   },
   "outputs": [],
   "source": []
  }
 ],
 "metadata": {
  "kernelspec": {
   "display_name": "Python 2",
   "language": "python",
   "name": "python2"
  },
  "language_info": {
   "codemirror_mode": {
    "name": "ipython",
    "version": 2
   },
   "file_extension": ".py",
   "mimetype": "text/x-python",
   "name": "python",
   "nbconvert_exporter": "python",
   "pygments_lexer": "ipython2",
   "version": "2.7.6"
  }
 },
 "nbformat": 4,
 "nbformat_minor": 0
}
