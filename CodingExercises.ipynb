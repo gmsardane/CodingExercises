{
 "cells": [
  {
   "cell_type": "code",
   "execution_count": 1,
   "metadata": {
    "collapsed": false
   },
   "outputs": [
    {
     "name": "stdout",
     "output_type": "stream",
     "text": [
      "Should be 0\n",
      "0.0\n",
      "Should be 2\n",
      "2.0\n",
      "Should be 11\n",
      "11.0\n",
      "Should be 15\n",
      "15.0\n"
     ]
    }
   ],
   "source": [
    "\"\"\"You can use this class to represent how classy someone\n",
    "or something is.\n",
    "\"Classy\" is interchangable with \"fancy\".\n",
    "If you add fancy-looking items, you will increase\n",
    "your \"classiness\".\n",
    "\n",
    "Create a function in \"Classy\" that takes a string as\n",
    "input and adds it to the \"items\" list.\n",
    "Another method should calculate the \"classiness\"\n",
    "value based on the items.\n",
    "The following items have classiness points associated\n",
    "with them:\n",
    "\"tophat\" = 2\n",
    "\"bowtie\" = 4\n",
    "\"monocle\" = 5\n",
    "Everything else has 0 points.\n",
    "Use the test cases below to guide you!\"\"\"\n",
    "\n",
    "class Classy:\n",
    "    def __init__(self):\n",
    "        self.items = []\n",
    "        \n",
    "    \n",
    "    def addItem(self, item):\n",
    "        item = str(item)\n",
    "        return self.items.append(item)\n",
    "    \n",
    "    def getClassiness(self):\n",
    "        self.score = 0.\n",
    "        for i, item in enumerate(self.items):\n",
    "            if item == 'tophat':\n",
    "                self.score += 2\n",
    "            elif item == 'bowtie':\n",
    "                self.score += 4\n",
    "            elif item == 'monocle':\n",
    "                self.score += 5\n",
    "        return self.score\n",
    "\n",
    "# Test cases\n",
    "me = Classy()\n",
    "\n",
    "print 'Should be 0'\n",
    "print me.getClassiness()\n",
    "\n",
    "me.addItem(\"tophat\")\n",
    "print 'Should be 2'\n",
    "print me.getClassiness()\n",
    "\n",
    "me.addItem(\"bowtie\")\n",
    "me.addItem(\"jacket\")\n",
    "me.addItem(\"monocle\")\n",
    "print 'Should be 11'\n",
    "print me.getClassiness()\n",
    "\n",
    "me.addItem(\"bowtie\")\n",
    "print 'Should be 15'\n",
    "print me.getClassiness()"
   ]
  },
  {
   "cell_type": "code",
   "execution_count": 3,
   "metadata": {
    "collapsed": false
   },
   "outputs": [
    {
     "name": "stdout",
     "output_type": "stream",
     "text": [
      "Should print 3\n",
      "3\n",
      "3\n",
      "Should print 2 now\n",
      "1\n",
      "2\n",
      "3\n"
     ]
    }
   ],
   "source": [
    "\"\"\"The LinkedList code from before is provided below.\n",
    "Add three functions to the LinkedList.\n",
    "\"get_position\" returns the element at a certain position.\n",
    "The \"insert\" function will add an element to a particular\n",
    "spot in the list.\n",
    "\"delete\" will delete the first element with that\n",
    "particular value.\n",
    "Then, use \"Test Run\" and \"Submit\" to run the test cases\n",
    "at the bottom.\"\"\"\n",
    "\n",
    "class Element(object):\n",
    "    def __init__(self, value):\n",
    "        self.value = value\n",
    "        self.next = None\n",
    "        \n",
    "class LinkedList(object):\n",
    "    def __init__(self, head=None):\n",
    "        self.head = head\n",
    "        \n",
    "    def append(self, new_element):\n",
    "        current = self.head\n",
    "        if self.head:\n",
    "            while current.next:\n",
    "                current = current.next\n",
    "            current.next = new_element\n",
    "        else:\n",
    "            self.head = new_element\n",
    "\n",
    "    def get_position(self, position):\n",
    "        \"\"\"Get an element from a particular position.\n",
    "        Assume the first position is \"1\".\n",
    "        Return \"None\" if position is not in the list.\"\"\"\n",
    "        counter = 1\n",
    "        current = self.head\n",
    "        if position < 1:\n",
    "            return None\n",
    "        while current and counter <= position:\n",
    "            if counter == position:\n",
    "                return current\n",
    "            current = current.next\n",
    "            counter += 1\n",
    "        return None\n",
    "      \n",
    "    \n",
    "    def insert(self, new_element, position):\n",
    "        \"\"\"Insert a new node at the given position.\n",
    "        Assume the first position is \"1\".\n",
    "        Inserting at position 3 means between\n",
    "        the 2nd and 3rd elements.\"\"\"\n",
    "        counter = 1\n",
    "        while  counter <= position:\n",
    "            if counter == position - 1:\n",
    "                self.append(new_element)\n",
    "        return self\n",
    "    \n",
    "    \n",
    "    def delete(self, value):\n",
    "        \"\"\"Delete the first node with a given value.\"\"\"\n",
    "        pass\n",
    "\n",
    "# Test cases\n",
    "# Set up some Elements\n",
    "e1 = Element(1)\n",
    "e2 = Element(2)\n",
    "e3 = Element(3)\n",
    "e4 = Element(4)\n",
    "\n",
    "# Start setting up a LinkedList\n",
    "ll = LinkedList(e1)\n",
    "ll.append(e2)\n",
    "ll.append(e3)\n",
    "\n",
    "\n",
    "# Test get_position\n",
    "print 'Should print 3'\n",
    "print ll.head.next.next.value\n",
    "# Should also print 3\n",
    "print ll.get_position(3).value\n",
    "\n",
    "# Test insert\n",
    "#ll.insert(e4,3)\n",
    "# Should print 4 now\n",
    "#print ll.get_position(3).value\n",
    "\n",
    "# Test delete\n",
    "ll.delete(1)\n",
    "print 'Should print 2 now'\n",
    "print ll.get_position(1).value\n",
    "# Should print 4 now\n",
    "print ll.get_position(2).value\n",
    "# Should print 3 now\n",
    "print ll.get_position(3).value"
   ]
  },
  {
   "cell_type": "code",
   "execution_count": 4,
   "metadata": {
    "collapsed": false
   },
   "outputs": [],
   "source": [
    "def quicksort(array):\n",
    "    smaller = []\n",
    "    larger = []\n",
    "    equal = []\n",
    "    if len(array) >= 1:\n",
    "        pivot = array[-1]\n",
    "        for i in array:\n",
    "            if i < pivot:\n",
    "                smaller.append(i) \n",
    "            if i > pivot:\n",
    "                larger.append(i)  \n",
    "            if i == pivot:\n",
    "                equal.append(i)\n",
    "        return quicksort(smaller) + equal + quicksort(larger)\n",
    "    \n",
    "    else:\n",
    "        return array"
   ]
  },
  {
   "cell_type": "code",
   "execution_count": 22,
   "metadata": {
    "collapsed": false
   },
   "outputs": [],
   "source": [
    "\"\"\"Time to play with Python dictionaries!\n",
    "You're going to work on a dictionary that\n",
    "stores cities by country and continent.\n",
    "One is done for you - the city of Mountain \n",
    "View is in the USA, which is in North America.\n",
    "\n",
    "You need to add the cities listed below by\n",
    "modifying the structure.\n",
    "Then, you should print out the values specified\n",
    "by looking them up in the structure.\n",
    "\n",
    "Cities to add:\n",
    "Bangalore (India, Asia)\n",
    "Atlanta (USA, North America)\n",
    "Cairo (Egypt, Africa)\n",
    "Shanghai (China, Asia)\"\"\"\n",
    "\n",
    "locations = {'North America': {'USA': ['Mountain View']}}\n",
    "locations['Asia'] = {'India': ['Bangalore']}\n",
    "locations['Africa'] = {'Egypt': ['Cairo']}\n",
    "locations['North America']['USA'].append('Atlanta')\n",
    "locations['Asia']['China'] = ['Shanghai']\n"
   ]
  },
  {
   "cell_type": "code",
   "execution_count": 43,
   "metadata": {
    "collapsed": false
   },
   "outputs": [
    {
     "name": "stdout",
     "output_type": "stream",
     "text": [
      "1\n",
      "Atlanta\n",
      "Mountain View\n"
     ]
    }
   ],
   "source": [
    "\"\"\"Print the following (using \"print\").\n",
    "1. A list of all cities in the USA in\n",
    "alphabetic order.\"\"\"\n",
    "print 1\n",
    "for i in sorted(locations['North America']['USA']):\n",
    "    print i"
   ]
  },
  {
   "cell_type": "code",
   "execution_count": 54,
   "metadata": {
    "collapsed": false
   },
   "outputs": [
    {
     "name": "stdout",
     "output_type": "stream",
     "text": [
      "2\n",
      "Bangalore - India\n",
      "Shanghai - China\n"
     ]
    }
   ],
   "source": [
    "\"\"\"2. All cities in Asia, in alphabetic\n",
    "order, next to the name of the country.\n",
    "In your output, label each answer with a number\n",
    "so it looks like this:\n",
    "1\n",
    "American City\n",
    "American City\n",
    "2\n",
    "Asian City - Country\n",
    "Asian City - Country\"\"\"\n",
    "print 2\n",
    "cities = []\n",
    "for country, city in locations['Asia'].iteritems():\n",
    "    cities.append(city[0]+' - '+country)\n",
    "for city in sorted(cities):\n",
    "    print city\n"
   ]
  },
  {
   "cell_type": "code",
   "execution_count": null,
   "metadata": {
    "collapsed": true
   },
   "outputs": [],
   "source": []
  },
  {
   "cell_type": "code",
   "execution_count": 86,
   "metadata": {
    "collapsed": true
   },
   "outputs": [],
   "source": [
    "class HashTable(object):\n",
    "    def __init__(self):\n",
    "        self.table = [None]*10000\n",
    "\n",
    "    def store(self, string):\n",
    "        hv = self.calculate_hash_value(string)\n",
    "        if hv != -1:\n",
    "            if self.table[hv] != None:\n",
    "                self.table[hv].append(string)\n",
    "            else:\n",
    "                self.table[hv] = [string]\n",
    "    def lookup(self, string):\n",
    "        hv = self.calculate_hash_value(string)\n",
    "        if hv != -1:\n",
    "            if self.table[hv] != None:\n",
    "                if string in self.table[hv]:\n",
    "                    return hv\n",
    "        return -1\n",
    "\n",
    "    def calculate_hash_value(self, string):\n",
    "        value = ord(string[0])*100 + ord(string[1])\n",
    "        return value"
   ]
  },
  {
   "cell_type": "code",
   "execution_count": 88,
   "metadata": {
    "collapsed": false
   },
   "outputs": [
    {
     "name": "stdout",
     "output_type": "stream",
     "text": [
      "-1\n",
      "<__main__.HashTable object at 0x10617c490>\n"
     ]
    }
   ],
   "source": [
    "# Test lookup edge case\n",
    "# Should be -1\n",
    "hash_table = HashTable()\n",
    "print hash_table.lookup('UDACITY')\n"
   ]
  },
  {
   "cell_type": "code",
   "execution_count": 112,
   "metadata": {
    "collapsed": false
   },
   "outputs": [
    {
     "name": "stdout",
     "output_type": "stream",
     "text": [
      "8568\n",
      "-1\n",
      "8568\n",
      "8568\n"
     ]
    },
    {
     "data": {
      "text/plain": [
       "9090"
      ]
     },
     "execution_count": 112,
     "metadata": {},
     "output_type": "execute_result"
    }
   ],
   "source": [
    "\"\"\"Write a HashTable class that stores strings\n",
    "in a hash table, where keys are calculated\n",
    "using the first two letters of the string.\"\"\"\n",
    "\n",
    "class HashTable(object):\n",
    "    def __init__(self):\n",
    "        self.table = [None]*10000\n",
    "\n",
    "    def store(self, string):\n",
    "        \"\"\"Input a string that's stored in \n",
    "        the table.\"\"\"\n",
    "        # Because, these are buckets\n",
    "        hash_value = self.calculate_hash_value(string)\n",
    "        if hash_value != -1:\n",
    "            if self.table[hash_value] != None:\n",
    "                self.table[hash_value].append(string)\n",
    "            else:\n",
    "                self.table[hash_value] =  [string]\n",
    "\n",
    "    def lookup(self, string):\n",
    "        \"\"\"Return the hash value if the\n",
    "        string is already in the table.\n",
    "        Return -1 otherwise.\"\"\"\n",
    "        hash_value = self.calculate_hash_value(string)\n",
    "        if hash_value != -1:\n",
    "            if self.table[hash_value] != None:\n",
    "                if string in self.table[hash_value]:\n",
    "                    return hash_value\n",
    "        return -1\n",
    "\n",
    "    def calculate_hash_value(self, string):\n",
    "        \"\"\"Helper function to calulate a\n",
    "        hash value from a string.\"\"\"\n",
    "        value = ord(string[0])*100 + ord(string[1])\n",
    "        return value\n",
    "\n",
    "# Setup\n",
    "hash_table = HashTable()\n",
    "\n",
    "# Test calculate_hash_value\n",
    "# Should be 8568\n",
    "print hash_table.calculate_hash_value('UDACITY')\n",
    "\n",
    "# Test lookup edge case\n",
    "# Should be -1\n",
    "print hash_table.lookup('UDACITY')\n",
    "#\n",
    "## Test store\n",
    "hash_table.store('UDACITY')\n",
    "## Should be 8568\n",
    "print hash_table.lookup('UDACITY')\n",
    "\n",
    "# Test store edge case\n",
    "hash_table.store('UDACIOUS')\n",
    "# Should be 8568\n",
    "print hash_table.lookup('UDACIOUS')\n",
    "hash_table.calculate_hash_value('ZZ')\n"
   ]
  },
  {
   "cell_type": "code",
   "execution_count": 113,
   "metadata": {
    "collapsed": true
   },
   "outputs": [],
   "source": [
    "# Let's cement tree traversals by coding them up. Let's start with our basic building blocks:\n",
    "\n",
    "class Node:\n",
    "    def __init__(self, value):\n",
    "        self.value = value\n",
    "        self.children = None\n",
    "# Now we can begin to build our tree:\n",
    "\n",
    "class Tree:\n",
    "    def __init__(self, root=None):\n",
    "        self.root = root\n",
    "# Your task will be to write functions that traverse the tree in a specific order.\n"
   ]
  },
  {
   "cell_type": "code",
   "execution_count": 126,
   "metadata": {
    "collapsed": false
   },
   "outputs": [
    {
     "name": "stdout",
     "output_type": "stream",
     "text": [
      "True\n",
      "False\n",
      "\n"
     ]
    }
   ],
   "source": [
    "class Node(object):\n",
    "    def __init__(self, value):\n",
    "        self.value = value\n",
    "        self.left = None\n",
    "        self.right = None\n",
    "\n",
    "class BinaryTree(object):\n",
    "    def __init__(self, root):\n",
    "        self.root = Node(root)\n",
    "        \n",
    "    def search(self, find_val):\n",
    "        \"\"\"Return True if the value\n",
    "        is in the tree, return\n",
    "        False otherwise.\"\"\"\n",
    "        return self.preorder_search(tree.root, find_val)\n",
    "\n",
    "    def print_tree(self):\n",
    "        \"\"\"Print out all tree nodes\n",
    "        as they are visited in\n",
    "        a pre-order traversal.\"\"\"\n",
    "        p\n",
    "        return \"\"\n",
    "\n",
    "    def preorder_search(self, start, find_val):\n",
    "        \"\"\"Helper method - use this to create a \n",
    "        recursive search solution.\"\"\"\n",
    "        if start:\n",
    "            if start.value == find_val:\n",
    "                return True\n",
    "            else:\n",
    "                return self.preorder_search(start.left, find_val) or self.preorder_search(start.right, find_val)\n",
    "        return False\n",
    "\n",
    "\n",
    "    def preorder_print(self, start, traversal):\n",
    "        \"\"\"Helper method - use this to create a \n",
    "        recursive print solution.\"\"\"\n",
    "        return traversal\n",
    "\n",
    "\n",
    "# Set up tree\n",
    "tree = BinaryTree(1)\n",
    "tree.root.left = Node(2)\n",
    "tree.root.right = Node(3)\n",
    "tree.root.left.left = Node(4)\n",
    "tree.root.left.right = Node(5)\n",
    "\n",
    "# Test search\n",
    "# Should be True\n",
    "print tree.search(4)\n",
    "# Should be False\n",
    "print tree.search(6)\n",
    "\n",
    "# Test print_tree\n",
    "# Should be 1-2-4-5-3\n",
    "print tree.print_tree()"
   ]
  },
  {
   "cell_type": "code",
   "execution_count": 127,
   "metadata": {
    "collapsed": true
   },
   "outputs": [],
   "source": [
    "# Import libraries necessary for this project\n",
    "import numpy as np\n",
    "import pandas as pd\n",
    "#import seaborn as sns\n",
    "#sns.set(font_scale=1.5) \n",
    "#sns.set_style(\"white\")\n",
    "\n",
    "# Pretty display for notebooks\n",
    "import matplotlib\n",
    "import matplotlib.pyplot as plt\n",
    "%matplotlib inline\n",
    "import matplotlib.gridspec as grd\n",
    "import matplotlib.ticker as tkr\n",
    "import matplotlib.font_manager as font_manager\n",
    "\n",
    "from matplotlib.ticker import AutoMinorLocator\n",
    "from matplotlib.ticker import FuncFormatter\n",
    "from matplotlib import rcParams\n",
    "\n",
    "#define plotter\n",
    "minorLocatorx   = AutoMinorLocator(10)\n",
    "minorLocatory   = AutoMinorLocator(4)\n",
    "matplotlib.rc('xtick', labelsize=16) \n",
    "matplotlib.rc('ytick', labelsize=16) \n",
    "matplotlib.rcParams['axes.linewidth'] = 2.\n",
    "plt.rcParams['axes.linewidth'] = 4\n",
    "plt.rc('font', family='serif');\n",
    "plt.rc('font', serif='Times New Roman'); \n",
    "fig_size = plt.rcParams[\"figure.figsize\"]\n",
    "fig_size[0] = 15\n",
    "fig_size[1] = 9\n",
    "plt.rcParams[\"figure.figsize\"] = fig_size"
   ]
  },
  {
   "cell_type": "code",
   "execution_count": 30,
   "metadata": {
    "collapsed": false
   },
   "outputs": [],
   "source": [
    "\n",
    "b = [[-3, -2, -1, 2], [-2, -2, 4, 5],[-1, 1,2,3,4]]\n"
   ]
  },
  {
   "cell_type": "code",
   "execution_count": 70,
   "metadata": {
    "collapsed": false
   },
   "outputs": [
    {
     "data": {
      "text/plain": [
       "6"
      ]
     },
     "execution_count": 70,
     "metadata": {},
     "output_type": "execute_result"
    }
   ],
   "source": [
    "## Count the number of negative numbers in a matrix: that is row-wise, column-wise sorted:\n",
    "\n",
    "def count_neg(M, nrows, ncols):\n",
    "    count = 0\n",
    "    i = 0\n",
    "    j = ncols - 1 #start from right\n",
    "    while j >= 0 and i <= nrows - 1: \n",
    "        if M[i][j] < 0:          \n",
    "            count += j+1  #because we index from zero\n",
    "            i += 1\n",
    "        else:\n",
    "            j -= 1\n",
    "    \n",
    "    return count\n",
    "    \n",
    "b = [[-4, -3, 1, 2, 3], [-1, -1, 2, 2, 3],[-1, -1,2,3,4]]    \n",
    "count_neg(b, 3, 5)"
   ]
  },
  {
   "cell_type": "code",
   "execution_count": null,
   "metadata": {
    "collapsed": true
   },
   "outputs": [],
   "source": [
    "[]"
   ]
  }
 ],
 "metadata": {
  "kernelspec": {
   "display_name": "Python 2",
   "language": "python",
   "name": "python2"
  },
  "language_info": {
   "codemirror_mode": {
    "name": "ipython",
    "version": 2
   },
   "file_extension": ".py",
   "mimetype": "text/x-python",
   "name": "python",
   "nbconvert_exporter": "python",
   "pygments_lexer": "ipython2",
   "version": "2.7.6"
  }
 },
 "nbformat": 4,
 "nbformat_minor": 0
}
